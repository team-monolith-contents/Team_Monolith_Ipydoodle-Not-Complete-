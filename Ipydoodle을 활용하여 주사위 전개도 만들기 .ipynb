{
 "cells": [
  {
   "cell_type": "markdown",
   "id": "2c3563a1-d2cd-4563-8007-5c473843aca7",
   "metadata": {},
   "source": [
    "# **Ipydoodle을 활용한 주사위 전개도 만들기**"
   ]
  },
  {
   "attachments": {
    "6c7ac6d8-8192-4457-9161-27f029eaf357.png": {
     "image/png": "[encoded data removed]"
    }
   },
   "cell_type": "markdown",
   "id": "b6886433-5315-43bb-aba7-68ebb221b431",
   "metadata": {},
   "source": [
    "영희가 철수에게 크기 50짜리 정육면체 주사위를 만들어달라고 했습니다. 영희는 철수가 크기가 다른 주사위 하나를 만들어줄 때마다 만원을 주겠다고 약속했습니다.  \n",
    "\n",
    "철수는 꾀를 부려서 크기와 무관하게 주사위 도안을 만드는 프로그램을 제작해 주사위를 빠르게 만들어 손쉽게 돈을 벌려고 합니다.  \n",
    "철수의 주사위 사업이 번창하기 위해서는 여러분의 도움이 필요합니다. 철수가 만들어야 하는 주사위의 도면은 다음과 같습니다.\n",
    "\n",
    "![1_dice.png](attachment:6c7ac6d8-8192-4457-9161-27f029eaf357.png)\n",
    "\n",
    "철수는 아래의 순서대로 주사위 도안을 만들려고 합니다.\n",
    "\n",
    "1. 우선 주사위크기를 50이라고 가정하고, 주사위의 한 면에 해당하는 상자를 알맞은 위치에 만들어줍니다.\n",
    "2. 이런! 두들은 아직 상자에 테두리를 그리는 기능이 없네요. 직접 그려줍시다.\n",
    "3. 숫자 1~6에 해당하는 면을 간편히 그릴 수 있도록 모듈화를 합시다.\n",
    "4. 주사위의 각 면에 해당하는 숫자를 검은색 점으로 표시해줍니다. \n",
    "5. 주사위의 크기를 변수로 입력받아 주사위를 만들 수 있는 새로운 함수를 만들어봅시다.\n",
    "6. 다양한 크기의 모든 주사위를 만들어봅시다! 이제 철수는 돈을 벌 수 있습니다!"
   ]
  },
  {
   "cell_type": "markdown",
   "id": "d4a86a1a-560f-4cf1-89d1-6fecddec1d31",
   "metadata": {},
   "source": [
    "## Step 1 : 주사위의 한 면 만들기\n",
    "우선 주사위크기를 50이라고 가정하고, 주사위의 한 면에 해당하는 상자를 알맞은 위치에 만들어줍니다."
   ]
  },
  {
   "cell_type": "code",
   "execution_count": 18,
   "id": "1fd4f007-d9b8-47d7-83a9-9fc52bbe9736",
   "metadata": {
    "tags": [
     "jce.problems.221.주사위만들기.Step1"
    ]
   },
   "outputs": [
    {
     "data": {
      "application/vnd.jupyter.widget-view+json": {
       "model_id": "831efd82b23c44e795e4821b49ef6078",
       "version_major": 2,
       "version_minor": 0
      },
      "text/plain": [
       "Canvas(height=100, width=100)"
      ]
     },
     "metadata": {},
     "output_type": "display_data"
    },
    {
     "data": {
      "text/plain": [
       "<ipydoodle.ipydoodle.Box at 0x7f53cbe37c70>"
      ]
     },
     "execution_count": 18,
     "metadata": {},
     "output_type": "execute_result"
    }
   ],
   "source": [
    "world = World(width = 100, height = 100, color = 'white', axis = False)\n",
    "Box(x = 0, y = 0, width = 50, height = 50, color = 'black') #배경색과 구분하기 위해 잠시 검은색으로 해봤어요^^"
   ]
  },
  {
   "cell_type": "markdown",
   "id": "5766fe04-3701-4111-9c6d-4ab9c5fad41b",
   "metadata": {
    "tags": []
   },
   "source": [
    "## Step 2 : 테두리 그리기\n",
    "이런! 철수가 가지고 있는 프로그램은 아직 상자에 테두리를 그리는 기능이 없네요. 대신 선을 그리는 기능이 있으니, 이를 이용해서 직접 그려줍시다.  \n",
    "우선 (0, 0) 좌표를 중심으로 높이와 넓이가 모두 50인 사각형을 line으로 그려봅시다.   \n",
    "힌트 : (0, 0)이 사각형의 중심이라면 line의 좌표는 x, y 각각 중심에서 25만큼씩만 떨어지면 되겠죠? (사각형 한변의 길이가 50이기 때문에 중심에서는 50/2만큼만 떨어지면 된다는 것을 생각하면 쉬울 거예요!)"
   ]
  },
  {
   "cell_type": "code",
   "execution_count": 19,
   "id": "1b0a5ff9-3c7f-4d3a-8944-259ff9b516c7",
   "metadata": {
    "tags": [
     "jce.problems.221.주사위만들기.Step2"
    ]
   },
   "outputs": [
    {
     "data": {
      "application/vnd.jupyter.widget-view+json": {
       "model_id": "e6c4928c08ad4393b80ec40aed95c9e9",
       "version_major": 2,
       "version_minor": 0
      },
      "text/plain": [
       "Canvas(height=100, width=100)"
      ]
     },
     "metadata": {},
     "output_type": "display_data"
    }
   ],
   "source": [
    "world = World(width = 100, height = 100, color = 'white', axis = False)\n",
    "Box(x = 0, y = 0, width = 50, height = 50, color = 'white') \n",
    "box_points = [[25, 25], [25, -25], [-25, -25], [-25, 25]] #line을 그릴 좌표를 1, 4, 3, 2 사분면 순으로 저장했습니다. \n",
    "    # 좌표 저장 순서는 달라도 상관 없으나, 순환되도록 배치해야 합니다. \n",
    "    # 예를 들어 [1, 2, 3, 4], [4, 3, 2, 1], [2, 3, 4, 1] 혹은 [3, 2, 1, 4] 처럼요.\n",
    "\n",
    "for i in range(len(box_points)): # 종이에 반복 결과를 그려가면서 최종 결과를 확인해보세요. \n",
    "    from_point = box_points[i] # 반복 결과 : box_point[0] -> box_point[1] -> box_point[2] -> box_point[3]\n",
    "    to_point = box_points[(i + 1) % len(box_points)] # 반복 결과 : box_point[1] -> box_point[2] -> box_point[3] -> box_point[0]\n",
    "    Line(x1 = from_point[0], y1 = from_point[1], x2 = to_point[0], y2 = to_point[1], color = 'black') # 위의 두 point를 좌표로 한 선을 그립니다. "
   ]
  },
  {
   "cell_type": "markdown",
   "id": "b63bb5fe-f820-43cc-86f4-aa578bf37d70",
   "metadata": {
    "tags": []
   },
   "source": [
    "## Step 3: 상자를 간편히 그릴 수 있는 함수 만들기!\n",
    "\n",
    "숫자 1~6에 해당하는 상자를 간편히 그릴 수 있도록 모듈화를 합시다. 상자 하나를 그릴 수 있는 `draw_box` 함수를 만들어주세요! `draw_box`는 다음의 조건을 만족해야 합니다. \n",
    "* 길이가 2인 배열을 첫번째 매개변수로 받습니다. 배열의 첫번째, 두번째 원소 각각 사각형 중심의 x좌표와 y좌표입니다. "
   ]
  },
  {
   "cell_type": "code",
   "execution_count": 2,
   "id": "da0d80e3-4373-47b1-858e-ef2b881f11c5",
   "metadata": {
    "tags": [
     "jce.problems.221.주사위만들기.Step3"
    ]
   },
   "outputs": [
    {
     "data": {
      "application/vnd.jupyter.widget-view+json": {
       "model_id": "fb7d7be9963b44d6a75cee73a339f7e0",
       "version_major": 2,
       "version_minor": 0
      },
      "text/plain": [
       "Canvas(height=100, width=100)"
      ]
     },
     "metadata": {},
     "output_type": "display_data"
    }
   ],
   "source": [
    "def draw_box(box_center_position = [0, 0]):\n",
    "    Box(x = box_center_position[0], y = box_center_position[1], width = 50, height = 50, color = 'white')\n",
    "    box_points = [[25, 25], [25, -25], [-25, -25], [-25, 25]]\n",
    "    for i in range(len(box_points)):\n",
    "        from_point = box_points[i]\n",
    "        to_point = box_points[(i + 1) % len(box_points)]\n",
    "        Line(\n",
    "            x1 = box_center_position[0] + from_point[0], # 중심에서 25씩 떨어져야 한다는 거 기억나죠? (0, 0)이 아닐 수 있기 때문에, 중심값에 point 좌표값을 더해주어야 합니다.  \n",
    "            y1 = box_center_position[1] + from_point[1],\n",
    "            x2 = box_center_position[0] + to_point[0],\n",
    "            y2 = box_center_position[1] + to_point[1],\n",
    "            color = 'black',\n",
    "            alpha = 1\n",
    "        )\n",
    "\n",
    "world = World(width = 100, height = 100, color = 'white', axis = False)\n",
    "draw_box([0, 0])"
   ]
  },
  {
   "cell_type": "markdown",
   "id": "938ee3a4-88e4-47d6-a71c-68481b0b241b",
   "metadata": {},
   "source": [
    "## Step 4 만들어둔 함수로 숫자 1~6에 해당하는 상자를 그려볼까요?\n",
    "    A. 2차원 배열 개념 익히기\n",
    "    B. 실제 구현해보기"
   ]
  },
  {
   "cell_type": "markdown",
   "id": "612bf4df-b425-4bbf-8554-78fb5ce591ec",
   "metadata": {},
   "source": [
    "### A. 2차원 배열 개념 익히기\n",
    "위에서 만든 `draw_box` 함수에서 매개변수로 받은 배열은 1차원 배열입니다.   \n",
    "(첫번째 원소는 x 좌표, 두번째 원소는 y좌표를 의미했죠.)  \n",
    "그렇다면 6개 상자의 x, y좌표를 한꺼번에 전달해주려면 어떻게 해야할까요? 바로 2차원 배열을 사용해야 합니다!   \n",
    "* 2차원 배열은 배열 안에 또 다른 배열이 있는 것이라고 생각하면 간단합니다.  \n",
    "  \n",
    "파이썬에서는 2차원 배열에서 for 반복문을 사용하려면 다음과 같이 코드를 짜야 합니다."
   ]
  },
  {
   "cell_type": "code",
   "execution_count": 4,
   "id": "0b612c17-e308-42ba-9045-cb0d1d6628fa",
   "metadata": {
    "tags": [
     "jce.problems.221.주사위만들기.Step4-A"
    ]
   },
   "outputs": [
    {
     "name": "stdout",
     "output_type": "stream",
     "text": [
      "[1, 1]\n",
      "[2, 2]\n",
      "[3, 3]\n",
      "[4, 4]\n"
     ]
    }
   ],
   "source": [
    "array = [[1, 1], [2, 2], [3, 3], [4, 4]]\n",
    "for item in array:\n",
    "    print(item)"
   ]
  },
  {
   "cell_type": "markdown",
   "id": "7deffb3f-63ac-4343-a9b4-f7c37d9888e1",
   "metadata": {},
   "source": [
    "### B. 실제 구현해보기\n",
    "> 아래 코드에는 1~6에 해당하는 상자의 위치를 나타내는 2차원 배열 box_positions가 주어져있습니다.  \n",
    "4-A 에서 배운 개념(2차원 배열)을 활용해 `draw_box`를 반복 호출해보세요."
   ]
  },
  {
   "cell_type": "code",
   "execution_count": 2,
   "id": "ba398f84-82c0-42c9-abe8-500fb1a92bbd",
   "metadata": {
    "tags": [
     "jce.problems.221.주사위만들기.Step4-B"
    ]
   },
   "outputs": [
    {
     "data": {
      "application/vnd.jupyter.widget-view+json": {
       "model_id": "235e577919e24aaeb9c1665ea51ecb64",
       "version_major": 2,
       "version_minor": 0
      },
      "text/plain": [
       "Canvas(height=300, width=300)"
      ]
     },
     "metadata": {},
     "output_type": "display_data"
    }
   ],
   "source": [
    "World(width = 300, height = 300, color = 'white', axis = False)\n",
    "box_positions = [[0, 0], [-50, 0], [0, -50], [0, 50], [50, 0], [0, 100]]\n",
    "    # 사각형 한 변의 길이가 50입니다. \n",
    "    # 주사위의 각 면에 해당하는 사각형들은 서로 50씩 떨어져 있어야 한다는 점에 유의하며 box_position 배열을 이해해보세요. \n",
    "\n",
    "# ---\n",
    "# box_position의 각 좌표를 중심으로 하는 사각형을 6개 만드는 반복문입니다. 반복문 진행 과정을 종이에 그려가며 이해해보세요. \n",
    "for i in range(len(box_positions)): # range(6) 과 같은 의미입니다. \n",
    "    draw_box(box_positions[i]) "
   ]
  },
  {
   "cell_type": "markdown",
   "id": "e8b50964-0418-4fb9-bf12-5d41d535d86d",
   "metadata": {},
   "source": [
    "## Step 5 주사위의 각 면에 해당하는 숫자를 검은색 점으로 표시하기!\n",
    "- 점을 찍을 수 있는 함수 `draw_dots`를 만들어주세요! \n",
    "- draw_dots는 다음의 조건을 만족해야 합니다. \n",
    "- 점 하나의 반지름은 5.5입니다.\n",
    "- 1차원 배열 box_center_position과 2차원 배열 circle_positions를 매개변수로 받습니다.\n",
    "   - 2차원 배열을 매개변수로 받을 때에는 2차원 배열의 기본형식인 \"[[0, 0]]\" 형식으로 받아주어야 합니다. \n",
    "   - 2차원 배열이 헷갈린다면 4-A의 개념을 참고해주세요"
   ]
  },
  {
   "cell_type": "markdown",
   "id": "d979fe74-7e77-4075-916c-53ccaef84144",
   "metadata": {},
   "source": [
    "- 힌트!\n",
    "    - box_center_position은 검은색 점을 표시할 주사위의 한 면을 이루는 사각형의 중심점 x좌표와 y좌표를 원소로 받는 1차원 배열입니다.\n",
    "    - circle_positions는 해당 주사위의 한 면에 표시되어야 하는 검은색 점들의 중심점 x, y좌표 배열의 배열, 즉 좌표들을 원소로 갖는 2차원 배열입니다.\n",
    "    - 검은색 점들의 좌표는 box_center_position 좌표를 좌표축으로 한 좌표입니다.   \n",
    "    (따라서 원하는 위치에 검은색 점을 표시하기 위해서는 box_center_position의 좌표에 검은색 점의 좌표를 더해주어야겠죠?)\n",
    "    - 검은색 점들은 circle_positions에 있는 좌표들의 개수만큼 그려져야 하겠죠? 이 점을 고려한다면 반복 횟수를 알 수 있습니다. \n",
    " \n",
    "    "
   ]
  },
  {
   "cell_type": "code",
   "execution_count": 5,
   "id": "ce102b78-56cb-494f-aafd-dabd46e62dd7",
   "metadata": {
    "tags": [
     "jce.problems.221.주사위만들기.Step5"
    ]
   },
   "outputs": [
    {
     "data": {
      "application/vnd.jupyter.widget-view+json": {
       "model_id": "0e2690170bf04ec7981749d539cf773d",
       "version_major": 2,
       "version_minor": 0
      },
      "text/plain": [
       "Canvas(height=100, width=100)"
      ]
     },
     "metadata": {},
     "output_type": "display_data"
    }
   ],
   "source": [
    "def draw_dots(box_center_position = [0, 0], circle_positions = [[0, 0]]): #2차원 배열 속에는 해당 주사위 면의 숫자 만큼의 원의 중심 좌표가 들어가게 되겠죠. \n",
    "    for circle_position in circle_positions: #2차원 배열의 원소만큼 반복! 즉, 해당 주사위 면의 숫자 만큼 반복하게 될 것입니다.  \n",
    "        Circle(\n",
    "            x = box_center_position[0] + circle_position[0], # 사각형의 중심점의 x좌표에 검은색 점의 중심 x좌표를 더해주고 있습니다. \n",
    "            y = box_center_position[1] + circle_position[1], # 사각형의 중심점의 y좌표에 검은색 점의 중심 y좌표를 더해주고 있습니다.\n",
    "            radius = 5.5,\n",
    "            color = 'black'\n",
    "        )\n",
    "\n",
    "world = World(width = 100, height = 100, color = 'white', axis = False)\n",
    "draw_box([0, 0])\n",
    "draw_dots([0, 0], [[0, 0]])"
   ]
  },
  {
   "cell_type": "markdown",
   "id": "876f0126-767c-44af-a3f6-32dcd9f88701",
   "metadata": {},
   "source": [
    "## Step 6 이제 상자와 점을 모든 숫자에 대해 찍어볼까요?\n",
    "    A. 다차원 배열 익히기 (1D, 2D, 3D)\n",
    "    B. 직접 구현하기\n",
    "    "
   ]
  },
  {
   "attachments": {
    "6fe1968a-d98e-4b6d-b8b7-339d0c564689.PNG": {
     "image/png": "[encoded data removed]"
    }
   },
   "cell_type": "markdown",
   "id": "efd06051-5527-4fe3-a8a4-40f6ca63c562",
   "metadata": {},
   "source": [
    "![주사위 전개도 만들기(3).PNG](attachment:6fe1968a-d98e-4b6d-b8b7-339d0c564689.PNG)"
   ]
  },
  {
   "cell_type": "markdown",
   "id": "2ebaa28f-33b8-4bda-9c24-f0a838033cbf",
   "metadata": {},
   "source": [
    "### A. 다차원 배열 익히기\n",
    "> 이번에는 1~6에 해당하는 상자에는 점의 갯수가 여러개 존재합니다.  \n",
    "우리는 2차원 배열을 점의 위치를 나타내는데 썼기 때문에, 이를 모아서 한번에 전달해주려면 3차원 배열이 필요합니다.  \n",
    "(3차원 배열을 간단하게 설명하면, \"배열의 배열의 배열\"이라고 할 수 있습니다.   \n",
    "   즉 가장 겉의 배열 안에 배열이 원소로 있고, 그 배열 속에 또 배열이 원소로 있는 형태입니다.)  \n",
    "앞서 4.A.와 마찬가지로 3차원 배열을 사용하려면 다음과 같이 사용합니다."
   ]
  },
  {
   "cell_type": "code",
   "execution_count": 6,
   "id": "64059c87-d47f-4973-9841-e371a8fc1f35",
   "metadata": {
    "tags": [
     "jce.problems.221.주사위만들기.Step6-A"
    ]
   },
   "outputs": [
    {
     "name": "stdout",
     "output_type": "stream",
     "text": [
      "[[-1, 0]]\n",
      "[[1, 2], [3, 4]]\n",
      "[[5, 6]]\n"
     ]
    }
   ],
   "source": [
    "array = [ [[-1, 0]],  [ [1, 2], [3, 4] ],  [[5, 6]] ]  # 자세히 보면, \"배열의 배열의 배열\"이라는 말이 이해될 겁니다.ㅎㅎ\n",
    "\n",
    "for item in array:\n",
    "    print(item)"
   ]
  },
  {
   "cell_type": "markdown",
   "id": "9549733b-46ed-4e0e-9436-d9d761ebcc88",
   "metadata": {},
   "source": [
    "### B. 직접 구현하기\n",
    "> 아래 코드에는 1부터 6까지 해당하는 상자의 중심 위치를 나타내는 2차원 배열 box_positions과  \n",
    "1부터 6까지 해당하는 상자를 기준으로 하는 점의 위치를 나타내는 3차원 배열 dot_positions가 있습니다. (아래와 같은 형식으로 작성될 것입니다.)  \n",
    "** [ [1상자 검은점], [ [2상자 검은점1],[2상자 검은점2] ], [ [3상자 검은점1, [3상자 검은점2], [3상자 검은점3] ], ... , [...[6상자 검은점5], [6상자 검은점6] ] ]       \n",
    "4-A(2차원 배열)와 6-A(다차원 배열)에서 배운 개념을 활용해 `draw_box`, `draw_dots`를 반복 호출해보세요."
   ]
  },
  {
   "cell_type": "code",
   "execution_count": 10,
   "id": "df60b59b-4afd-440b-86d6-9cf5a04554e9",
   "metadata": {
    "tags": [
     "jce.problems.221.주사위만들기.Step6-B"
    ]
   },
   "outputs": [
    {
     "data": {
      "application/vnd.jupyter.widget-view+json": {
       "model_id": "33f7c308b7504b67b3347239239521e4",
       "version_major": 2,
       "version_minor": 0
      },
      "text/plain": [
       "Canvas(width=500)"
      ]
     },
     "metadata": {},
     "output_type": "display_data"
    }
   ],
   "source": [
    "World(width = 500, height = 500, color = 'white', axis = False)\n",
    "box_positions = [[0, 0], [-50, 0], [0, -50], [0, 50], [50, 0], [0, 100]]\n",
    "dot_positions = [\n",
    "    [[0, 0]],  # 숫자 1 상자 검은점 좌표\n",
    "    [[12.5, 12.5], [-12.5, -12.5]], # 숫자 2 상자 검은점 좌표들\n",
    "    [[12.5, 12.5], [-12.5, -12.5], [0, 0]],\n",
    "    [[12.5, 12.5], [-12.5, -12.5], [-12.5, 12.5], [12.5, -12.5]],\n",
    "    [[12.5, 12.5], [-12.5, -12.5], [-12.5, 12.5], [12.5, -12.5], [0, 0]],\n",
    "    # [[12.5, 0], [12.5, 15], [12.5, -15], [-12.5, 0], [-12.5, 15], [-12.5, -15]],  숫자 6 상자 검은점 좌표들\n",
    "    [[12.5, 0], [12.5, 12.5], [12.5, -12.5], [-12.5, 0], [-12.5, 12.5], [-12.5, -12.5]]\n",
    "]\n",
    "\n",
    "# 참고1 : dot_position 좌표는 상자 한 변 길이 50을 4로 나눈 값입니다. (상자의 중심을 기준으로 사각형을 사분했을 때 한 사분면의 중심을 잡아야 하기 때문입니다.)\n",
    "# 참고2 : 숫자 6 상자의 y축 좌표 설정 방법........추가하기!!!!\n",
    "\n",
    "for i in range(6):\n",
    "    draw_box(box_positions[i])\n",
    "    draw_dots(box_positions[i], dot_positions[i])"
   ]
  },
  {
   "cell_type": "markdown",
   "id": "dc8374e9-4eda-4981-8710-3f27d572ad47",
   "metadata": {},
   "source": [
    "## Step 7 한 모서리의 길이를 변수로 받아 주사위를 만들 수 있는 새로운 함수를 만들어봅시다. \n",
    "* 이 때까지 만든 함수를 주사위 크기를 받을 수 있도록 수정해볼까요?\n",
    "* `draw_dots`와 `draw_box`에 주사위의 크기를 매개변수로 받을 수 있게 수정해주세요.\n",
    "* 한 모서리의 길이를 매개변수로 받는 `draw_dice`함수를 새로 만들어주세요. 상자의 위치와 점의 위치는 주어져 있지만, 직접 만들어봐도 좋겠죠?"
   ]
  },
  {
   "cell_type": "code",
   "execution_count": 11,
   "id": "a8483720-6770-4827-9d0e-496d78ff799c",
   "metadata": {
    "tags": [
     "jce.problems.221.주사위만들기.Step7"
    ]
   },
   "outputs": [
    {
     "data": {
      "application/vnd.jupyter.widget-view+json": {
       "model_id": "7b4086326eb24b79bc20342db124236d",
       "version_major": 2,
       "version_minor": 0
      },
      "text/plain": [
       "Canvas(width=500)"
      ]
     },
     "metadata": {},
     "output_type": "display_data"
    }
   ],
   "source": [
    "def draw_dots(box_center_position = [0, 0], circle_positions = [[0, 0]], dice_size = 50):\n",
    "    for circle_position in circle_positions:\n",
    "        Circle(\n",
    "            x = box_center_position[0] + circle_position[0],\n",
    "            y = box_center_position[1] + circle_position[1],\n",
    "            radius = dice_size * 0.11,\n",
    "            color = 'black'\n",
    "        )\n",
    "\n",
    "def draw_box(box_center_position = [0, 0], dice_size = 50):\n",
    "    Box(x = box_center_position[0], y = box_center_position[1], width = dice_size, height = dice_size, color = 'white')\n",
    "    # 위에서 상자의 중심점 좌표가 한 변 길이의 반절이라고 했던 거 기억나나요? 이 공식을 기억한다면 아래와 같이 box_points를 일반화할 수 있습니다!\n",
    "    box_points = [[dice_size / 2, dice_size / 2], [dice_size / 2, -dice_size / 2], [-dice_size / 2, -dice_size / 2], [-dice_size / 2, dice_size / 2]]\n",
    "    for i in range(len(box_points)):\n",
    "        from_point = box_points[i]\n",
    "        to_point = box_points[(i + 1) % len(box_points)]\n",
    "        Line(\n",
    "            x1 = box_center_position[0] + from_point[0],\n",
    "            y1 = box_center_position[1] + from_point[1],\n",
    "            x2 = box_center_position[0] + to_point[0],\n",
    "            y2 = box_center_position[1] + to_point[1],\n",
    "            color = 'black',\n",
    "            alpha = 1\n",
    "        )\n",
    "\n",
    "def draw_dice(dice_size = 50):\n",
    "    World(width = 500, height = 500, color = 'white', axis = False)\n",
    "    box_positions = [[0, 0], [-dice_size, 0], [0, -dice_size], [0, dice_size], [dice_size, 0], [0, dice_size * 2]]\n",
    "    dot_positions = [\n",
    "        [[0, 0]],\n",
    "        [[dice_size / 4, dice_size / 4], [-dice_size / 4, -dice_size / 4]], # 위에서 50/4가 검은점 중심의 좌표값과 관련이 있었던 점을 기억하면 이해하기 쉬울 거예요. \n",
    "        [[dice_size / 4, dice_size / 4], [-dice_size / 4, -dice_size / 4], [0, 0]],\n",
    "        [[dice_size / 4, dice_size / 4], [-dice_size / 4, -dice_size / 4], [-dice_size / 4, +dice_size / 4], [+dice_size / 4, -dice_size / 4]],\n",
    "        [[dice_size / 4, dice_size / 4], [-dice_size / 4, -dice_size / 4], [-dice_size / 4, +dice_size / 4], [+dice_size / 4, -dice_size / 4], [0, 0]],\n",
    "        [[dice_size / 4, 0], [dice_size / 4, dice_size * 3 / 10], [dice_size / 4, -dice_size * 3 / 10], [-dice_size / 4, 0], [-dice_size / 4, dice_size * 3 / 10], [-dice_size / 4, -dice_size * 3 / 10]],\n",
    "    ]\n",
    "\n",
    "    for i in range(6):\n",
    "        draw_box(box_positions[i], dice_size)\n",
    "        draw_dots(box_positions[i], dot_positions[i], dice_size)\n",
    "        \n",
    "        \n",
    "draw_dice(30)"
   ]
  },
  {
   "cell_type": "markdown",
   "id": "827310cf-449d-44c8-9395-ce8ba1027226",
   "metadata": {},
   "source": [
    "## Step 8. 10, 20, 30, 40, ..., 100의 크기를 가지는 주사위의 도안을 모두 그려봅시다\n",
    "- 이제 철수는 영희에게서 십만원을 받고 주사위를 팔 수 있습니다 :D"
   ]
  },
  {
   "cell_type": "code",
   "execution_count": 10,
   "id": "0df7aa32-bca5-4593-accb-166c8c31f9c5",
   "metadata": {
    "tags": [
     "jce.problems.221.주사위만들기.Step8"
    ]
   },
   "outputs": [
    {
     "name": "stdout",
     "output_type": "stream",
     "text": [
      "10\n"
     ]
    },
    {
     "data": {
      "application/vnd.jupyter.widget-view+json": {
       "model_id": "3006c063f8a047c09ef9fa4fd2906aeb",
       "version_major": 2,
       "version_minor": 0
      },
      "text/plain": [
       "Canvas(width=500)"
      ]
     },
     "metadata": {},
     "output_type": "display_data"
    },
    {
     "name": "stdout",
     "output_type": "stream",
     "text": [
      "20\n"
     ]
    },
    {
     "data": {
      "application/vnd.jupyter.widget-view+json": {
       "model_id": "bd0353935f3149bc86d82c14f2329a34",
       "version_major": 2,
       "version_minor": 0
      },
      "text/plain": [
       "Canvas(width=500)"
      ]
     },
     "metadata": {},
     "output_type": "display_data"
    },
    {
     "name": "stdout",
     "output_type": "stream",
     "text": [
      "30\n"
     ]
    },
    {
     "data": {
      "application/vnd.jupyter.widget-view+json": {
       "model_id": "aba45fce22dc4aad957cfeb15ffe15e7",
       "version_major": 2,
       "version_minor": 0
      },
      "text/plain": [
       "Canvas(width=500)"
      ]
     },
     "metadata": {},
     "output_type": "display_data"
    },
    {
     "name": "stdout",
     "output_type": "stream",
     "text": [
      "40\n"
     ]
    },
    {
     "data": {
      "application/vnd.jupyter.widget-view+json": {
       "model_id": "a5af0c15b7fe48158ed3be94599500fe",
       "version_major": 2,
       "version_minor": 0
      },
      "text/plain": [
       "Canvas(width=500)"
      ]
     },
     "metadata": {},
     "output_type": "display_data"
    },
    {
     "name": "stdout",
     "output_type": "stream",
     "text": [
      "50\n"
     ]
    },
    {
     "data": {
      "application/vnd.jupyter.widget-view+json": {
       "model_id": "07e0659fdb38447db0d74be2aaeeecf6",
       "version_major": 2,
       "version_minor": 0
      },
      "text/plain": [
       "Canvas(width=500)"
      ]
     },
     "metadata": {},
     "output_type": "display_data"
    },
    {
     "name": "stdout",
     "output_type": "stream",
     "text": [
      "60\n"
     ]
    },
    {
     "data": {
      "application/vnd.jupyter.widget-view+json": {
       "model_id": "2623bdde8a4a4e7f97c5386f3d763a3d",
       "version_major": 2,
       "version_minor": 0
      },
      "text/plain": [
       "Canvas(width=500)"
      ]
     },
     "metadata": {},
     "output_type": "display_data"
    },
    {
     "name": "stdout",
     "output_type": "stream",
     "text": [
      "70\n"
     ]
    },
    {
     "data": {
      "application/vnd.jupyter.widget-view+json": {
       "model_id": "e61ee648f6324fd4ad5f762fa1aaea79",
       "version_major": 2,
       "version_minor": 0
      },
      "text/plain": [
       "Canvas(width=500)"
      ]
     },
     "metadata": {},
     "output_type": "display_data"
    },
    {
     "name": "stdout",
     "output_type": "stream",
     "text": [
      "80\n"
     ]
    },
    {
     "data": {
      "application/vnd.jupyter.widget-view+json": {
       "model_id": "580163f4005746c586a98229085a018d",
       "version_major": 2,
       "version_minor": 0
      },
      "text/plain": [
       "Canvas(width=500)"
      ]
     },
     "metadata": {},
     "output_type": "display_data"
    },
    {
     "name": "stdout",
     "output_type": "stream",
     "text": [
      "90\n"
     ]
    },
    {
     "data": {
      "application/vnd.jupyter.widget-view+json": {
       "model_id": "d9d2f973dafc45dd8181e7271bf494fe",
       "version_major": 2,
       "version_minor": 0
      },
      "text/plain": [
       "Canvas(width=500)"
      ]
     },
     "metadata": {},
     "output_type": "display_data"
    },
    {
     "name": "stdout",
     "output_type": "stream",
     "text": [
      "100\n"
     ]
    },
    {
     "data": {
      "application/vnd.jupyter.widget-view+json": {
       "model_id": "e4211382210247f48444443f3cd06fde",
       "version_major": 2,
       "version_minor": 0
      },
      "text/plain": [
       "Canvas(width=500)"
      ]
     },
     "metadata": {},
     "output_type": "display_data"
    }
   ],
   "source": [
    "for i in range(10, 101, 10): #10에서 100까지 10씩 건너뛰면서 i에 대입하는 반복문입니다. \n",
    "    print(i)\n",
    "    draw_dice(i)"
   ]
  },
  {
   "attachments": {
    "46fd8ade-0379-47a5-9c16-201842cf482a.jpg": {
     "image/jpeg": "[encoded data removed]"
    }
   },
   "cell_type": "markdown",
   "id": "88bf3d93-6c79-4eab-b6ae-7ec38ea27b81",
   "metadata": {},
   "source": [
    "## 부자가 될 철수와 여러분을 위해 건배😎  \n",
    "![1_gatsby.jpg](attachment:46fd8ade-0379-47a5-9c16-201842cf482a.jpg)"
   ]
  }
 ],
 "metadata": {
  "kernelspec": {
   "display_name": "Python 3 (ipykernel)",
   "language": "python",
   "name": "python3"
  },
  "language_info": {
   "codemirror_mode": {
    "name": "ipython",
    "version": 3
   },
   "file_extension": ".py",
   "mimetype": "text/x-python",
   "name": "python",
   "nbconvert_exporter": "python",
   "pygments_lexer": "ipython3",
   "version": "3.10.4"
  }
 },
 "nbformat": 4,
 "nbformat_minor": 5
}
