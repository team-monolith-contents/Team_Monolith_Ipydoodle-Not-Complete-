{
 "cells": [
  {
   "cell_type": "markdown",
   "id": "3d879aeb-8968-480c-8ca1-96ad51f8b827",
   "metadata": {
    "tags": []
   },
   "source": [
    "# 컬링 대표팀의 무한도전"
   ]
  },
  {
   "cell_type": "markdown",
   "id": "fdf3a6a9-a74c-49dd-a8d1-99f0218764dc",
   "metadata": {},
   "source": [
    "2026년, 이탈리아에서 동계올림픽이 열리고 있습니다. 이제 컬링은 우리나라에 있어 빼놓을 수 없는 중요 종목이 되었죠. 국민의 관심을 한몸에 받아서인지, 철수와 영희가 속한 대한민국 컬링 대표팀은 동계올림픽에서 최고의 성적을 보이며 결승까지 진출하는 데 성공했습니다.  \n",
    "결승 상대는 일본으로 결정되었습니다. 가위바위보도 져서는 안된다는 한일전이 결승전에서 펼쳐지게 되었습니다.   \n",
    "대한민국 컬링 대표팀은 결승에서 일본을 꺾고 금메달을 따 금의환향할 수 있을까요?   \n",
    "\n",
    "이 이야기는 여러분의 코딩을 하며 따라와야하는 이야기입니다. 대한민국이 금메달을 따길 원한다면 미션을 수행해주세요!"
   ]
  },
  {
   "cell_type": "markdown",
   "id": "052f44d9-bfeb-48fd-8fa1-23b77a692cff",
   "metadata": {
    "tags": []
   },
   "source": [
    "## 1. 컬링이란? "
   ]
  },
  {
   "cell_type": "markdown",
   "id": "a54a4e64-3aef-4e81-9d2e-4003219c2616",
   "metadata": {},
   "source": [
    "컬링은 얼음판 위에서 스톤을 과녁 원 안에 놓는 것을 목표로 하는 스포츠입니다. 과녁 원은 4개의 동심원으로 이루어져 있습니다."
   ]
  },
  {
   "cell_type": "markdown",
   "id": "799ddc7c-8a3b-46c1-8e32-4522bf3f56f1",
   "metadata": {
    "tags": []
   },
   "source": [
    "### 예제 1. 과녁 만드는 함수 `draw_circles` 만들기\n",
    "반지름이 300, 225, 150, 75인 원 4개로 이루어진 동심원들로 과녁을 만들 수 있는 함수 `draw_circles`를 만들어주세요."
   ]
  },
  {
   "cell_type": "code",
   "execution_count": null,
   "id": "b11cf6cf-ce5d-42b0-8672-c029084c3bde",
   "metadata": {
    "tags": [
     "jce.problems.1308.컬링.예제1"
    ]
   },
   "outputs": [],
   "source": [
    "'''\n",
    "문제 예시입니다.\n",
    "def draw_circles():\n",
    "    World(width = 600, height = 600, axis = False)\n",
    "    # 이 부분에 동심원 4개를 그릴 수 있도록 코딩을 해주세요\n",
    "\n",
    "draw_circles()\n",
    "'''\n",
    "\n",
    "def draw_circles():\n",
    "    World(width = 600, height = 600, axis = False)  # 먼저 공간을 만들어줍니다. \n",
    "\n",
    "    # 반지름은 각각 300, 225, 150, 75로 설정하고, 색깔은 각 원이 서로 구분될 수 있도록 다르게 설정해줍니다. \n",
    "    # 동심원이기 때문에 모든 원의 중심축은 같아야 합니다. 간단하게 (0, 0)을 중심축으로 설정해보았습니다. \n",
    "    Circle(radius = 300, x = 0, y = 0, color = 'red', alpha = 0.5) \n",
    "    Circle(radius = 225, x = 0, y = 0, color = 'white')\n",
    "    Circle(radius = 150, x = 0, y = 0, color = 'blue', alpha = 0.5)\n",
    "    Circle(radius = 75, x = 0, y = 0, color = 'white')\n",
    "\n",
    "draw_circles()"
   ]
  },
  {
   "cell_type": "markdown",
   "id": "539720b4-8720-42aa-b774-898ae752efce",
   "metadata": {
    "tags": []
   },
   "source": [
    "#### 해설"
   ]
  },
  {
   "cell_type": "markdown",
   "id": "fc349513-210b-4f61-8cab-7ccf398b675f",
   "metadata": {},
   "source": [
    "`Circle` 함수를 호출할때는 반지름을 설정할 수 있습니다. `radius`를 입력으로 전달해주면 반지름이 설정됩니다."
   ]
  },
  {
   "cell_type": "markdown",
   "id": "d0e7ed67-9e41-4800-b489-f8c34ab9440b",
   "metadata": {},
   "source": [
    "### 예제 2. 과녁 위에 스톤 1개 그리고 중심 좌표 반환하는 함수 `draw_stone` 만들기\n",
    "컬링에 참여하는 양 팀은 번갈아가며 스톤을 8개씩 투구합니다. 즉, 총 16개의 스톤이 동심원에 투구됩니다.    \n",
    "동심원 위의 랜덤한 위치에 스톤 1개를 그릴 수 있는 함수 `draw_stone`을 만들어주세요.\n",
    "* 스톤의 반지름은 20입니다.  \n",
    "* 스톤의 중심은 -250 이상 250 이하에 랜덤하게 위치합니다.\n",
    "* 해당 함수는 색깔 color를 입력으로 받아 스톤의 색깔로 설정할 수 있습니다.\n",
    "* 해당 함수를 호출하면 스톤의 중심 좌표를 x, y를 반환합니다. (return x, y)\n",
    "* 다음의 함수를 사용할 수 있습니다.\n",
    "    * `random.uniform(a, b)`: a~b 사이의 실수를 반환합니다."
   ]
  },
  {
   "cell_type": "code",
   "execution_count": null,
   "id": "b710b469-f473-4e32-8a9f-8c8782f920e1",
   "metadata": {
    "tags": [
     "jce.problems.1308.컬링.예제2"
    ]
   },
   "outputs": [],
   "source": [
    "'''\n",
    "문제 예시입니다.\n",
    "import random\n",
    "\n",
    "def draw_stone(color):\n",
    "    x = ...\n",
    "    y = ...\n",
    "    # Circle 함수를 사용해 스톤을 그려주세요\n",
    "\n",
    "    return x, y\n",
    "\n",
    "draw_circles()\n",
    "draw_stone('red')\n",
    "'''\n",
    "    \n",
    "\n",
    "import random\n",
    "\n",
    "def draw_stone(color): #색깔을 인수로 받고 있습니다. \n",
    "    x = random.uniform(-250, 250)  # 원의 중심 x좌표로 사용될 난수입니다. \n",
    "    y = random.uniform(-250, 250)  # 원의 중심 y좌표로 사용될 난수입니다.\n",
    "    Circle(x = x, y = y, radius = 20, color = color)  # 좌변에 있는 매개변수에 우변의 값들이 대입되어 함수가 실행될 것입니다. 좌변의 x, y, color와 우변의 x, y, color가 다른 의미임에 유의하세요. \n",
    "    return x, y\n",
    "'''\n",
    "(제안!!) 위에서 매개변수에 값이 대입되는 것이 헷갈릴 수 있을 것 같아서 그러는데, \n",
    "각 변수의 이름을 center_x, center_y, circle_color 와 같이 구별해주는 것은 어떨까요???\n",
    "'''\n",
    "\n",
    "draw_circles()\n",
    "draw_stone('red')"
   ]
  },
  {
   "cell_type": "markdown",
   "id": "ec85d68d-a6a1-41b5-aeca-c83ab42462f2",
   "metadata": {},
   "source": [
    "`random.uniform`함수를 사용하면 특정 범위 내에 있는 숫자를 호출할 수 있습니다. 스톤은 -250 이상 250 이하의 좌표를 가지므로 `random.uniform(-250, 250)`을 사용하면 임의의 좌표를 가져올 수 있습니다."
   ]
  },
  {
   "cell_type": "markdown",
   "id": "8b556036-5ae7-45c6-b399-9461e6c20dd5",
   "metadata": {
    "tags": []
   },
   "source": [
    "### 예제 3. 각 팀별 8개의 스톤을 배치하는 함수 `draw_stones` 만들기\n",
    "각 팀별로 스톤을 8개씩 배치할 수 있는 함수 `draw_stones`를 만들어주세요\n",
    "* 컬링대회에 참여한 한국과 일본이 가지고 있는 스톤의 색깔은 각각 파란색과 빨간색입니다.\n",
    "* 스톤은 겹쳐도 상관없습니다."
   ]
  },
  {
   "cell_type": "code",
   "execution_count": null,
   "id": "a4d1e280-0314-493b-b0bb-ee219463d8d4",
   "metadata": {
    "tags": [
     "jce.problems.1308.컬링.예제3"
    ]
   },
   "outputs": [],
   "source": [
    "'''\n",
    "문제 예시입니다\n",
    "def draw_stones():\n",
    "    draw_stone('red')\n",
    "    draw_stone('blue')\n",
    "    # 이렇게 되면 stone이 각각 하나만 생성됩니다. 팀별로 8개의 스톤을 생성하려면 어떻게 해야할까요?\n",
    "draw_circles()\n",
    "draw_stones()\n",
    "\n",
    "'''\n",
    "def draw_stones():\n",
    "    for i in range(8):  \n",
    "        draw_stone('red')  # 반복 결과 빨간 스톤이 8개 그려질 것입니다. \n",
    "        draw_stone('blue') # 반복 결과 파란 스톤이 8개 그려질 것입니다. \n",
    "        \n",
    "draw_circles()  # 과녁을 그리고\n",
    "draw_stones()  # 스톤 16개(빨간색 8개, 파란색 8개)를 배치해줍니다.  "
   ]
  },
  {
   "cell_type": "markdown",
   "id": "f3836ef6-5343-47f6-b79a-c8d55f774573",
   "metadata": {
    "tags": []
   },
   "source": [
    "#### 해설"
   ]
  },
  {
   "cell_type": "markdown",
   "id": "1a1a2b6f-398a-45c7-9ee1-ce16dbbf6a17",
   "metadata": {},
   "source": [
    "반복문 `for i in range(n)`을 사용하면 반복문 안에 있는 코드가 n번 반복됩니다."
   ]
  },
  {
   "cell_type": "markdown",
   "id": "1c2c9b47-b8c6-4079-b995-6cf6cb7c12cc",
   "metadata": {
    "tags": []
   },
   "source": [
    "## 2. 경기의 승자는?"
   ]
  },
  {
   "cell_type": "markdown",
   "id": "101c942f-8738-4741-8613-c9f241d0ad59",
   "metadata": {},
   "source": [
    "한국과 일본은 막상막하의 경기력을 선보였고, 치열한 경기 끝에 연장전에 가게 되었습니다. 이 마지막 엔드에서 점수를 따낸 팀이 우승을 차지하게 됩니다. 과연 한국팀은 우승을 차지할 수 있을까요?"
   ]
  },
  {
   "cell_type": "markdown",
   "id": "75674ee0-22e1-4f9f-ad1b-d122f4c4ecb6",
   "metadata": {
    "tags": []
   },
   "source": [
    "### 예제 4.\n",
    "한 엔드의 투구가 모두 끝났을 때 과녁의 중심에 가장 가깝게 스톤을 보낸 팀이 그 엔드를 승리합니다. 스톤 간의 거리를 비교하기 위해 스톤의 거리를 계산할 수 있는 함수를 만들어주세요.  \n",
    "* 동심원의 중심과 스톤의 중심 간의 거리를 구하는 함수를 만듭니다. \n",
    "* 이 함수는 스톤의 중심 좌표 x, y를 입력으로 받아야 합니다. \n"
   ]
  },
  {
   "attachments": {
    "c2c3ea84-2425-4432-a235-4fe8fb47ec81.png": {
     "image/png": "[encoded data removed]"
    }
   },
   "cell_type": "markdown",
   "id": "620f7329-15ff-4fe7-8f71-33c1ccccd1e7",
   "metadata": {
    "tags": []
   },
   "source": [
    "#### 예제 4.1. 두 좌표 간 거리 계산하기 연습(피타고라스 정리)\n",
    "동심원 중심 좌표, 스톤 중심 좌표, 이 두 좌표 간 거리를 구하는 방법은 피타고라스의 정리를 사용하는 것입니다. \n",
    "* 한 좌표계에서 x, y 좌표가 주어져있을때, 원점(0, 0)에서 (x, y)까지의 거리는 피타고라스의 정리를 사용하여 구할 수 있습니다.  \n",
    "![4_pitagoras.png](attachment:c2c3ea84-2425-4432-a235-4fe8fb47ec81.png)\n",
    "* $d = \\sqrt{x^2 + y^2}$임을 알고 있을 때, 이를 파이썬에서 구현하려면 어떻게 해야할까요? 다음의 함수를 사용하여 구현해주세요.\n",
    "    * `math.sqrt(x)`: x의 루트 값을 반환합니다.\n"
   ]
  },
  {
   "cell_type": "code",
   "execution_count": null,
   "id": "57a89005-7683-4c72-9d74-3858feb1829b",
   "metadata": {
    "tags": [
     "jce.problems.1308.컬링.예제4"
    ]
   },
   "outputs": [],
   "source": [
    "'''\n",
    "문제 예시입니다\n",
    "import math\n",
    "x = 3\n",
    "y = 4\n",
    "distance = ... # 거리를 계산해주세요!\n",
    "print(distance)\n",
    "'''\n",
    "import math\n",
    "\n",
    "x = 3\n",
    "y = 4\n",
    "distance = math.sqrt(x * x + y * y)\n",
    "print(distance)"
   ]
  },
  {
   "cell_type": "markdown",
   "id": "978c5e73-2ef5-4006-887d-e10913fbf765",
   "metadata": {
    "tags": []
   },
   "source": [
    "#### 예제 4.2.\n",
    "함수 만들기"
   ]
  },
  {
   "cell_type": "code",
   "execution_count": null,
   "id": "6c0637fc-4846-44e1-98e1-416703e5bd5f",
   "metadata": {
    "tags": [
     "jce.problems.1308.컬링.예제5"
    ]
   },
   "outputs": [],
   "source": [
    "def calculate_distance(x, y):\n",
    "    distance = math.sqrt(x * x + y * y)\n",
    "    return distance"
   ]
  },
  {
   "cell_type": "markdown",
   "id": "bd196778-88c4-499d-a69d-622bc317361c",
   "metadata": {
    "tags": []
   },
   "source": [
    "### 예제 5. `draw_stones` 수정하기\n",
    "단순히 스톤을 랜덤하게 배치하기만 했던 함수 `draw_stones`를 수정하려 합니다.   \n",
    "`draw_stones` 함수를 스톤 배치, 과녁 중심과 스톤 중심 간 거리 계산, 팀별 최소 거리 저장 및 반환, 이 세 가지 기능을 할 수 있도록 수정해보세요. \n",
    "* 힌트: 우리가 만든 `draw_stone`함수는 x, y좌표를 반환합니다."
   ]
  },
  {
   "cell_type": "code",
   "execution_count": null,
   "id": "7ac143b3-e246-41b5-b495-a1065ded9e3b",
   "metadata": {
    "tags": [
     "jce.problems.1308.컬링.예제6"
    ]
   },
   "outputs": [],
   "source": [
    "'''\n",
    "def draw_stones():\n",
    "    distance_japan_min = 10000 # 일본 스톤의 최소 거리\n",
    "    distance_korea_min = 10000 # 한국 스톤의 최소 거리\n",
    "\n",
    "    for i in range(8):\n",
    "        x, y = draw_stone('blue') # 한국\n",
    "        x, y = draw_stone('red') # 일본\n",
    "\n",
    "    return distance_korea_min, distance_japan_min\n",
    "\n",
    "draw_circles()\n",
    "distance_korea, distance_japan = draw_stones()\n",
    "print(distance_korea, distance_japan)\n",
    "'''\n",
    "def draw_stones():\n",
    "    distance_japan_min = 10000   \n",
    "    distance_korea_min = 10000\n",
    "    '''\n",
    "      최소값을 저장해서 반환할 변수입니다. 이 변수의 값과 각 스톤들의 중심과의 거리를 비교해서 더 작은 값을 저장할 거예요.\n",
    "      따라서 변수에 최초로 저장되는 값은 중심과의 거리의 최대값이어야 합니다. \n",
    "      최소값이나 중간의 아무 값을 저장한다면, 거리 최소값이 9999일 때 이를 변수 min에 반영할 수 없겠죠. 이 때문에 최대값을 초기값으로 설정해주는 것입니다. \n",
    "    '''\n",
    "        \n",
    "    for i in range(8): # 아래의 과정을 8개의 스톤에 반복하여 실행합니다. \n",
    "        x, y = draw_stone('blue') # 한국. draw_stone 함수가 반환한 x, y좌표를 x, y 변수에 각각 저장합니다. \n",
    "        distance_korea = calculate_distance(x, y)  # 거리를 계산하여 변수에 저장합니다. \n",
    "        if distance_korea_min > distance_korea: # 조건문 : 앞서 선언한 min변수의 값과 방금 계산한 거리의 값을 비교합니다.   \n",
    "            distance_korea_min = distance_korea # 비교 결과 distance_korea 가 더 min이라면, min변수에 새롭게 저장해줍니다.\n",
    "\n",
    "        x, y = draw_stone('red') # 일본. 한국과 똑같은 코드 진행이 이루어집니다. 스스로 따라가 보세요. \n",
    "        distance_japan = calculate_distance(x, y)\n",
    "        if distance_japan_min > distance_japan:\n",
    "            distance_japan_min = distance_japan\n",
    "\n",
    "    return distance_korea_min, distance_japan_min\n",
    "\n",
    "draw_circles()\n",
    "distance_korea, distance_japan = draw_stones()\n",
    "print(distance_korea, distance_japan)"
   ]
  },
  {
   "cell_type": "markdown",
   "id": "57d874df-abfd-4a97-ad94-fd5d68cd2b6a",
   "metadata": {
    "tags": []
   },
   "source": [
    "#### 해설"
   ]
  },
  {
   "cell_type": "markdown",
   "id": "51de3770-2d99-4d3e-ad30-027b5888ebb3",
   "metadata": {},
   "source": [
    "스톤을 그릴때마다, 우선 `calculate_distance`함수를 호출하여 스톤의 거리를 계산한다. 만약 계산한 스톤의 거리가 이전에 나왔던 스톤의 최소 거리보다 짧다면, 스톤의 거리를 업데이트한다. 이때 최소 거리를 저장할 변수인 distance_korea_min, distance_japan_min이 처음에 0으로 설정되면 최소값이 저장되지 않으므로 적당히 큰 값을 설정해준다."
   ]
  },
  {
   "cell_type": "markdown",
   "id": "8105da3a-dfca-45e8-b4ad-26dde6dd238d",
   "metadata": {
    "tags": []
   },
   "source": [
    "### 예제 6. 우승팀를 판정하고 출력해보기\n",
    "저장된 거리를 가지고 우승팀을 판정해보자. 만약 일본이 우승하면 'Japan wins!'를 호출하고 한국이 우승하면 'Korea wins!'를 출력해야 합니다."
   ]
  },
  {
   "cell_type": "code",
   "execution_count": null,
   "id": "28d63b26-d0ea-480d-a1f3-de4bbba5238d",
   "metadata": {
    "tags": [
     "jce.problems.1308.컬링.예제7"
    ]
   },
   "outputs": [],
   "source": [
    "'''\n",
    "draw_circles()\n",
    "distance_korea, distance_japan = draw_stones()\n",
    "# if 문을 어떻게 작성해야할까?\n",
    "print('Japan wins!')\n",
    "print('Korea wins!')\n",
    "'''\n",
    "draw_circles()\n",
    "distance_korea, distance_japan = draw_stones()\n",
    "if distance_korea > distance_japan: # 일본이 작으면\n",
    "    print('Japan wins!') # 이 명령어를 실행하고\n",
    "else: # 그렇지 않으면(=한국이 작으면)\n",
    "    print('Korea wins!') # 이 명령어를 실행합니다. "
   ]
  },
  {
   "cell_type": "markdown",
   "id": "2760594f-933f-4229-8995-23ceee68ea0f",
   "metadata": {
    "tags": []
   },
   "source": [
    "#### 해설"
   ]
  },
  {
   "cell_type": "markdown",
   "id": "0dc96ce9-e19e-4c95-8050-0ce28459ad75",
   "metadata": {},
   "source": [
    "만약 한국의 스톤이 동심원의 중심에 일본의 스톤보다 가깝다면 한국이 이긴 것이다."
   ]
  },
  {
   "cell_type": "markdown",
   "id": "e188e59d-0ded-4995-a844-f659fa6fb942",
   "metadata": {
    "tags": []
   },
   "source": [
    "## 3. 대한민국 컬링 대표팀의 무한도전"
   ]
  },
  {
   "cell_type": "markdown",
   "id": "e9e6abb1-241f-41c2-8330-21c4be5814e6",
   "metadata": {},
   "source": [
    "아뿔사! 일본이 컬링 경기를 이겨버렸습니다. 우리는 일본이 금메달을 따는 것을 지켜만 볼 수는 없죠. 일본의 우승을 막기 위해 시간을 돌려 이길 때까지 컬링 경기를 반복할 생각입니다. "
   ]
  },
  {
   "cell_type": "markdown",
   "id": "e088270b-11c3-468d-88fd-57484b4f805e",
   "metadata": {
    "tags": []
   },
   "source": [
    "### 예제 7. 한국이 이길 때까지 경기를 반복하는 함수 `dormammu`\n",
    "경기를 한국이 이길 때까지 반복하는 함수 `dormammu`를 만들어보자.\n",
    "* 경기는 한국이 이길 때까지 반복되며 한국이 이긴 경우 반복이 종료됩니다.\n",
    "* 각 경기마다 한국이 졌는지 이겼는지를 출력하고 이길 경우에는 몇번만에 이겼는지를 출력해주세요.\n",
    "* 힌트: 반복문을 종료할때는 `break`를 사용합니다. "
   ]
  },
  {
   "cell_type": "code",
   "execution_count": null,
   "id": "16ca3ee0-42ca-496a-a073-ea18879a4d34",
   "metadata": {
    "tags": [
     "jce.problems.1308.컬링.예제8"
    ]
   },
   "outputs": [],
   "source": [
    "'''\n",
    "def dormammu():\n",
    "    ...\n",
    "dormammu()\n",
    "'''\n",
    "def dormammu():\n",
    "    count = 1 # 반복문이 돌아간 횟수를 저장할 변수입니다. \n",
    "    while True:\n",
    "        draw_circles()\n",
    "        distance_korea, distance_japan = draw_stones()\n",
    "        if distance_korea > distance_japan:\n",
    "            print('Japan wins!')\n",
    "        else: # 아까와 동일하게 \"그렇지 않으면(=한국이 이기면)\"\n",
    "            print('Korea wins in', count, 'times') # 한국이 이겼다는 것과 반복횟수를 출력해주고\n",
    "            break # 이제 일본을 이겼으니, 반복문을 종료해줍니다. (컬링 경기 도르마무 끝!)\n",
    "        \n",
    "        count += 1 # 반복문이 한 번 돌아갈 때마다 1씩 더해줍니다. \n",
    "dormammu()"
   ]
  },
  {
   "cell_type": "markdown",
   "id": "de956816-be3b-4b55-8603-068767a2758f",
   "metadata": {
    "tags": []
   },
   "source": [
    "#### 해설"
   ]
  },
  {
   "cell_type": "markdown",
   "id": "ab519a58-3fa0-4fd6-81e7-663f18c6719d",
   "metadata": {},
   "source": [
    "여기서는 반복문 while을 사용합니다. `while True`를 사용하면 반복문이 끊임없이 반복됩니다. count 변수는 반복문이 돌아갈때마다 1 증가 합니다. 만약 한국 스톤의 거리가 일본 스톤의 거리보다 짧다면 해당 경기를 우승한 것이므로, 반복문을 `break`를 사용해 종료합니다."
   ]
  },
  {
   "cell_type": "markdown",
   "id": "270f51f8-3094-4762-b926-1747960419f2",
   "metadata": {
    "tags": []
   },
   "source": [
    "## 4. 마무리\n",
    "마침내 한국은 컬링 결승에서 우승을 차지하고 금희환향하게 되었습니다. :D"
   ]
  }
 ],
 "metadata": {
  "kernelspec": {
   "display_name": "Python 3 (ipykernel)",
   "language": "python",
   "name": "python3"
  },
  "language_info": {
   "codemirror_mode": {
    "name": "ipython",
    "version": 3
   },
   "file_extension": ".py",
   "mimetype": "text/x-python",
   "name": "python",
   "nbconvert_exporter": "python",
   "pygments_lexer": "ipython3",
   "version": "3.10.4"
  }
 },
 "nbformat": 4,
 "nbformat_minor": 5
}
